{
 "cells": [
  {
   "cell_type": "markdown",
   "id": "f5f94939",
   "metadata": {},
   "source": [
    "# Implementing k-Nearest Neighbors from scratch - The naive way"
   ]
  },
  {
   "cell_type": "markdown",
   "id": "309f15c6",
   "metadata": {},
   "source": [
    "Recently I started looking for a job in the field of data science and in order to practice with possible machine learning related questions I decided to implement the most common algorithms from scratch using only numpy. In the following weeks I would like to share these implementation in my blog; today I am gonna start from $k$-NN. This is one of the easiest algorithms in the machine learning literature, but actually it's quite powerful!\n",
    "The approach is very simple: \n",
    "- The fit method just stores the training data.\n",
    "- At test time given a new sample compute the distances from all the samples in the training set.\n",
    "- Sort these distances and consider the closest $k$ training elements to the test point (neighbors).\n",
    "- The label in the test point will simply be the most represented label among the $k$ neighbors.\n",
    "\n",
    "This high level explanation of the algorithm already provides a pseudo code for $k$-NN. Let's implement it in python!\n",
    "\n",
    "*Note: in another blog post I describe $k$-NN and other ML algorithms in more detail. Check it out if you are interested: https://gialbo.github.io/Analysis-on-the-German-Credit-Risk-Dataset/#k-nearest-neighbors*"
   ]
  },
  {
   "cell_type": "markdown",
   "id": "2b629b94",
   "metadata": {},
   "source": [
    "## Computing the distances"
   ]
  },
  {
   "cell_type": "markdown",
   "id": "30d8dfa3",
   "metadata": {},
   "source": [
    "This is actually the first step in implementing $k$-NN. Various distance measures can be used, but the most common one is the Euclidean distance, so for this *homemade* version of the algorithm I am going to use that."
   ]
  },
  {
   "cell_type": "code",
   "execution_count": 7,
   "id": "d941add9",
   "metadata": {},
   "outputs": [
    {
     "data": {
      "text/plain": [
       "5.196152422706632"
      ]
     },
     "execution_count": 7,
     "metadata": {},
     "output_type": "execute_result"
    }
   ],
   "source": [
    "import numpy as np\n",
    "# returns the Euclidean distance of two vectors\n",
    "def compute_distance(x, other_x):\n",
    "    return np.linalg.norm(x - other_x)\n",
    "\n",
    "compute_distances(np.array([1, 2, 3]), np.array([4, 5, 6]))"
   ]
  },
  {
   "cell_type": "markdown",
   "id": "e5a25cae",
   "metadata": {},
   "source": [
    "## Predicting the labels"
   ]
  },
  {
   "cell_type": "markdown",
   "id": "e9caedde",
   "metadata": {},
   "source": [
    "Once we have all the distances we will simply sort them and compute the label:"
   ]
  },
  {
   "cell_type": "code",
   "execution_count": 11,
   "id": "7c0e8f78",
   "metadata": {},
   "outputs": [
    {
     "name": "stdout",
     "output_type": "stream",
     "text": [
      "The most represented label in the neighborhood is 0\n"
     ]
    }
   ],
   "source": [
    "    # Takes as input a sorted list of tuples, each one in the form (distance, label) and the number of neighbors.\n",
    "    # returns the most represented label in the neighborhood\n",
    "    def compute_label(labeled_distances, n_neighbors):\n",
    "        labels = [s[1] for s in labeled_distances[:n_neighbors]]\n",
    "        labels_count = {}\n",
    "        for label in labels:\n",
    "            labels_count[label] = labels_count.get(label, 0) + 1\n",
    "            \n",
    "        best_label = None\n",
    "        max_count = 0\n",
    "        for k, v in labels_count.items():\n",
    "            if v > max_count:\n",
    "                max_count = v\n",
    "                best_label = k\n",
    "                \n",
    "        return best_label\n",
    "    \n",
    "    \n",
    "    labeled_distances = [(1.7542, 0), (3.523, 1), (2.124, 1), (1.123, 0)]\n",
    "    sorted_labeled_distances = sorted(labeled_distances, key = lambda t: t[0])\n",
    "    label = compute_label(sorted_labeled_distances, n_neighbors=3)\n",
    "    print(f\"The most represented label in the neighborhood is {label}\")"
   ]
  },
  {
   "cell_type": "markdown",
   "id": "e002aec3",
   "metadata": {},
   "source": [
    "The code is quite simple, I used a list of tuples. Each element represents a training point in terms of: distance from the point we are evaluating and label of the training point. Given this list I sort it using as key the distance (first element in the tuple), then I simply take the first $n_neighbors$ elements and look for the majority class inside the neighborhood. For doing this I keep in a dictionary the counts of the occurrences of each labels and then I select the label with the maximum count."
   ]
  },
  {
   "cell_type": "markdown",
   "id": "b349faa1",
   "metadata": {},
   "source": [
    "## Putting everything together"
   ]
  },
  {
   "cell_type": "markdown",
   "id": "911fd796",
   "metadata": {},
   "source": [
    "Basically the algorithm is implemented, the next step is putting everything inside a class and repeat the implemented operations for each point in the training and test set:"
   ]
  },
  {
   "cell_type": "code",
   "execution_count": 62,
   "id": "25b46720",
   "metadata": {},
   "outputs": [],
   "source": [
    "class HomemadeKNNs():\n",
    "    def __init__(self, n_neighbors = 3):\n",
    "        self.n_neighbors = n_neighbors\n",
    "    \n",
    "    def fit(self, X, y):\n",
    "        self.train_data = [(x_s, y_s) for x_s, y_s in zip(X, y)]\n",
    "        \n",
    "    \n",
    "    def predict(self, X):\n",
    "        \n",
    "        y_hat = np.zeros((len(X)))\n",
    "        for i, x in enumerate(X):\n",
    "            labeled_distances = []\n",
    "            for train_sample in self.train_data:\n",
    "                distance = HomemadeKNNs.compute_distances(x, train_sample[0])\n",
    "                labeled_distances.append((distance, train_sample[1]))\n",
    "            labeled_distances = sorted(labeled_distances, key = lambda t: t[0])\n",
    "            y_hat[i] = HomemadeKNNs.compute_label(labeled_distances, self.n_neighbors)\n",
    "        \n",
    "        return y_hat\n",
    "                    \n",
    "    @staticmethod\n",
    "    def compute_distances(x, other_x):\n",
    "        return np.linalg.norm(x - other_x)\n",
    "    \n",
    "    @staticmethod\n",
    "    def compute_label(labeled_distances, n_neighbors):\n",
    "        labels = [s[1] for s in labeled_distances[:n_neighbors]]\n",
    "        labels_count = {}\n",
    "        for label in labels:\n",
    "            labels_count[label] = labels_count.get(label, 0) + 1\n",
    "            \n",
    "        best_label = None\n",
    "        max_count = 0\n",
    "        for k, v in labels_count.items():\n",
    "            if v > max_count:\n",
    "                max_count = v\n",
    "                best_label = k\n",
    "                \n",
    "        return best_label\n"
   ]
  },
  {
   "cell_type": "markdown",
   "id": "bdc60282",
   "metadata": {},
   "source": [
    "## Testing the algorithm"
   ]
  },
  {
   "cell_type": "markdown",
   "id": "b567b7c3",
   "metadata": {},
   "source": [
    "To test the algorithm I created a very simple 2D toy dataset consisting with only two labels."
   ]
  },
  {
   "cell_type": "code",
   "execution_count": 63,
   "id": "9b1a878a",
   "metadata": {},
   "outputs": [],
   "source": [
    "import matplotlib.pyplot as plt\n",
    "\n",
    "class SyntheticDataset2D():\n",
    "    mean_0 = np.array((-1., 1.))\n",
    "    std_0 = np.array((2., .2))    \n",
    "    mean_1 = np.array((-2., 0))\n",
    "    std_1 = np.array((1., .2))\n",
    "    \n",
    "    def __init__(self, n_classes=2, n_samples=200):\n",
    "        self.n_classes = n_classes\n",
    "        self.n_samples = n_samples\n",
    "        \n",
    "    def generate(self):\n",
    "        \n",
    "        samples_1 = []\n",
    "        samples_2 = []\n",
    "        for _ in range(self.n_samples // 2):\n",
    "            samples_1.append(np.random.normal(self.mean_0, self.std_0))\n",
    "            j = np.random.randint(0, 2)\n",
    "            samples_2.append(np.random.normal(self.mean_1, self.std_1))\n",
    "            \n",
    "        X1 = np.stack(samples_1).clip(-4.99, 4.99)\n",
    "        X2 = np.stack(samples_2).clip(-4.99, 4.99)\n",
    "        X = np.concatenate((X1, X2), axis=0)\n",
    "        y = np.zeros(self.n_samples)\n",
    "        y[self.n_samples // 2:] = 1\n",
    "        return X, y\n",
    "    \n",
    "    @staticmethod\n",
    "    def plot_dataset(X, y):\n",
    "        mask = y == 0\n",
    "        X1 = X[mask]\n",
    "        X2 = X[~mask]\n",
    "\n",
    "        fig, ax = plt.subplots(figsize=(5,5), dpi=110)\n",
    "        _ = ax.plot(X1[:,0], X1[:,1], '+m', alpha=1, label=\"Class 0\")\n",
    "        _ = ax.plot(X2[:,0], X2[:,1], '+c', alpha=1, label=\"Class 1\")\n",
    "        ax.grid()\n",
    "        ax.set_xlabel(\"X1\")\n",
    "        ax.set_ylabel(\"X2\")\n",
    "        ax.legend()\n",
    "        plt.show()"
   ]
  },
  {
   "cell_type": "code",
   "execution_count": 64,
   "id": "1854920c",
   "metadata": {},
   "outputs": [
    {
     "data": {
      "image/png": "[encoded data removed]",
      "text/plain": [
       "<Figure size 550x550 with 1 Axes>"
      ]
     },
     "metadata": {
      "needs_background": "light"
     },
     "output_type": "display_data"
    }
   ],
   "source": [
    "dataset = SyntheticDataset2D(2, 200)\n",
    "X_train, y_train = dataset.generate()\n",
    "SyntheticDataset2D.plot_dataset(X_train, y_train)"
   ]
  },
  {
   "cell_type": "markdown",
   "id": "a1d17407",
   "metadata": {},
   "source": [
    "Let's see if everything works fine"
   ]
  },
  {
   "cell_type": "code",
   "execution_count": 65,
   "id": "9b7e6a73",
   "metadata": {},
   "outputs": [],
   "source": [
    "model = HomemadeKNNs()\n",
    "model.fit(X_train, y_train)\n",
    "\n",
    "# Each time we call dataset.generate() data would be slightly different, but belonging to the same distribution\n",
    "X_test, y_test = dataset.generate()\n",
    "y_hat = model.predict(X_test)"
   ]
  },
  {
   "cell_type": "code",
   "execution_count": 66,
   "id": "f5f4a5ee",
   "metadata": {},
   "outputs": [
    {
     "data": {
      "image/png": "[encoded data removed]",
      "text/plain": [
       "<Figure size 550x550 with 1 Axes>"
      ]
     },
     "metadata": {
      "needs_background": "light"
     },
     "output_type": "display_data"
    }
   ],
   "source": [
    "SyntheticDataset2D.plot_dataset(X_test, y_hat)"
   ]
  },
  {
   "cell_type": "code",
   "execution_count": 67,
   "id": "932209d1",
   "metadata": {},
   "outputs": [
    {
     "name": "stdout",
     "output_type": "stream",
     "text": [
      "The accuracy of the obtained model is 0.99\n"
     ]
    }
   ],
   "source": [
    "accuracy = np.sum(y_hat == y_test) / len(y_test)\n",
    "print(f\"The accuracy of the obtained model is {accuracy}\")"
   ]
  },
  {
   "cell_type": "markdown",
   "id": "2886b81d",
   "metadata": {},
   "source": [
    "Our model seems to work pretty well. Another cool thing to is to plot the decision boundary and the training set on top to see what training samples are not classified correctly:"
   ]
  },
  {
   "cell_type": "code",
   "execution_count": 117,
   "id": "5b4bdb0c",
   "metadata": {},
   "outputs": [],
   "source": [
    "def plot_decision_boundary(model, X, y, min_vals=(-5, -2), max_vals=(5, 2)):\n",
    "    min_vals = (-5, -2)\n",
    "    max_vals = (5, 2)\n",
    "    x1grid = np.arange(min_vals[0], max_vals[0], 0.1)\n",
    "    x2grid = np.arange(min_vals[1], max_vals[1], 0.1)\n",
    "    xx, yy = np.meshgrid(x1grid, x2grid)\n",
    "    r1, r2 = xx.flatten(), yy.flatten()\n",
    "    r1, r2 = r1.reshape((len(r1), 1)), r2.reshape((len(r2), 1))\n",
    "    grid = np.hstack((r1,r2))\n",
    "    zz = model.predict(grid).reshape(xx.shape)\n",
    "    \n",
    "    fig, ax = plt.subplots(figsize=(5,5), dpi=110)\n",
    "    ax.contourf(xx, yy, zz, cmap='RdBu', levels=2, alpha=0.9)\n",
    "    \n",
    "    mask = y == 0\n",
    "    X1 = X[mask]\n",
    "    X2 = X[~mask]\n",
    "        \n",
    "    _ = ax.plot(X1[:,0], X1[:,1], '+m', label=\"class 0\")\n",
    "    _ = ax.plot(X2[:,0], X2[:,1], '+c', label=\"class 1\")\n",
    "    ax.set_xlabel(\"X1\")\n",
    "    ax.set_ylabel(\"X2\")\n",
    "\n",
    "    ax.legend()\n",
    "    plt.show()"
   ]
  },
  {
   "cell_type": "code",
   "execution_count": 118,
   "id": "aa1945b4",
   "metadata": {},
   "outputs": [
    {
     "data": {
      "image/png": "[encoded data removed]",
      "text/plain": [
       "<Figure size 550x550 with 1 Axes>"
      ]
     },
     "metadata": {
      "needs_background": "light"
     },
     "output_type": "display_data"
    }
   ],
   "source": [
    "plot_decision_boundary(model, X_train, y_train)"
   ]
  },
  {
   "cell_type": "markdown",
   "id": "e4548537",
   "metadata": {},
   "source": [
    "## Conclusion"
   ]
  },
  {
   "cell_type": "markdown",
   "id": "64866e0d",
   "metadata": {},
   "source": [
    "That's all for this very simple implementation of $k$-NN. Of course there exists various alternatives to implement the algorithm in a faster way. I was thinking to realize a part $2$ of this article in which I implement a more complex version of $k$-NN using the $k$-$d$ tree. Let me know if you liked this post and if I should do more articles on the topic by sending me an email: gilbertomanunza@gmail.com"
   ]
  }
 ],
 "metadata": {
  "kernelspec": {
   "display_name": "Python 3",
   "language": "python",
   "name": "python3"
  },
  "language_info": {
   "codemirror_mode": {
    "name": "ipython",
    "version": 3
   },
   "file_extension": ".py",
   "mimetype": "text/x-python",
   "name": "python",
   "nbconvert_exporter": "python",
   "pygments_lexer": "ipython3",
   "version": "3.8.3"
  }
 },
 "nbformat": 4,
 "nbformat_minor": 5
}
